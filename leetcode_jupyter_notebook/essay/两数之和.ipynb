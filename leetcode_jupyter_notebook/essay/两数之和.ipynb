{
 "cells": [
  {
   "cell_type": "code",
   "execution_count": null,
   "metadata": {
    "collapsed": true
   },
   "outputs": [],
   "source": [
    "# 方法一，判断num1和num2是否相同，若相同，判断是否为同一位置，不为同一位置，找出连个两个数的下标；\n",
    "# 两个数不相同，若num2在nums中，找出两个数的下标"
   ]
  },
  {
   "cell_type": "code",
   "execution_count": 37,
   "metadata": {},
   "outputs": [],
   "source": [
    "class Solution(object):\n",
    "    def twoSum(self, nums, target):\n",
    "        \"\"\"\n",
    "        :type nums: List[int]\n",
    "        :type target: int\n",
    "        :rtype: List[int]\n",
    "        \"\"\"\n",
    "        le = len(nums)\n",
    "        num = 0\n",
    "        for i in range(len(nums)):\n",
    "            num += 1\n",
    "            a = nums[i]\n",
    "            b = target - a\n",
    "            if a == b and nums.count(a) >= 2:  # 判断a，b是否相同且，列表中的位置不同\n",
    "                b_index = nums[i+1:].index(b)+i+1  # 从a的位置往后赵下表\n",
    "                # nums.remove(a)\n",
    "                # b_index = nums.index(b)+1  # 删除a的位置，找b的索引\n",
    "                print(i, b_index)\n",
    "                return i,b_index\n",
    "            else:\n",
    "                if a != b and b in nums:  # 如果a!=b,且b在nums中，则找出b的索引位置\n",
    "                    b_index = nums.index(b)\n",
    "                    print(i, b_index)\n",
    "                    return i, b_index\n",
    "            if num == le - 1:  # 遍历最后一个退出循环\n",
    "                return None\n",
    "                "
   ]
  },
  {
   "cell_type": "code",
   "execution_count": 38,
   "metadata": {},
   "outputs": [],
   "source": [
    "# test\n",
    "solution = Solution()\n",
    "solution.twoSum([3,4,1],6)"
   ]
  },
  {
   "cell_type": "code",
   "execution_count": 30,
   "metadata": {
    "collapsed": true
   },
   "outputs": [],
   "source": [
    "# 方法二，循环遍历列表nums，按顺序取出num1，然后删除num1，若num2在删除后的列表中，找出两个数的下标\n",
    "class Solution(object):\n",
    "    def twoSum(self, nums, target):\n",
    "        \"\"\"\n",
    "        :type nums: List[int]\n",
    "        :type target: int\n",
    "        :rtype: List[int]\n",
    "        \"\"\"\n",
    "        num = 0\n",
    "        le = len(nums)\n",
    "        for i in range(len(nums)):\n",
    "            \n",
    "            a = nums[i]\n",
    "            b = target - a\n",
    "            nums.remove(a)\n",
    "            if b in nums:\n",
    "                b_index = nums.index(b) + num +1\n",
    "                return i, b_index\n",
    "            num += 1\n",
    "            if num == le - 1:  # 遍历最后一个退出循环\n",
    "                return None\n",
    "            "
   ]
  },
  {
   "cell_type": "code",
   "execution_count": 32,
   "metadata": {},
   "outputs": [
    {
     "data": {
      "text/plain": [
       "(1, 2)"
      ]
     },
     "execution_count": 32,
     "metadata": {},
     "output_type": "execute_result"
    }
   ],
   "source": [
    "# test\n",
    "solution = Solution()\n",
    "solution.twoSum([3,4,2],6)"
   ]
  },
  {
   "cell_type": "code",
   "execution_count": 45,
   "metadata": {
    "collapsed": true
   },
   "outputs": [],
   "source": [
    "# 方法三\n",
    "class Solution(object):\n",
    "    def twoSum(self, nums, target):\n",
    "        \"\"\"\n",
    "        :type nums: List[int]\n",
    "        :type target: int\n",
    "        :rtype: List[int]\n",
    "        \"\"\"\n",
    "        nums_to_index = {}\n",
    "        for key,value in enumerate(nums):\n",
    "            nums_to_index[value] = key\n",
    "        print(nums_to_index)\n",
    "        for i,num in enumerate(nums):\n",
    "            b = target - num\n",
    "            b_index = nums_to_index.get(b)\n",
    "            if num in nums_to_index and i != b_index:\n",
    "                return i, b_index"
   ]
  },
  {
   "cell_type": "code",
   "execution_count": 46,
   "metadata": {},
   "outputs": [
    {
     "name": "stdout",
     "output_type": "stream",
     "text": [
      "{3: 2, 4: 1}\n"
     ]
    },
    {
     "data": {
      "text/plain": [
       "(0, 2)"
      ]
     },
     "execution_count": 46,
     "metadata": {},
     "output_type": "execute_result"
    }
   ],
   "source": [
    "# test\n",
    "solution = Solution()\n",
    "solution.twoSum([3,4,3],6)"
   ]
  },
  {
   "cell_type": "code",
   "execution_count": null,
   "metadata": {
    "collapsed": true
   },
   "outputs": [],
   "source": []
  }
 ],
 "metadata": {
  "kernelspec": {
   "display_name": "Python 3",
   "language": "python",
   "name": "python3"
  },
  "language_info": {
   "codemirror_mode": {
    "name": "ipython",
    "version": 3
   },
   "file_extension": ".py",
   "mimetype": "text/x-python",
   "name": "python",
   "nbconvert_exporter": "python",
   "pygments_lexer": "ipython3",
   "version": "3.6.2"
  }
 },
 "nbformat": 4,
 "nbformat_minor": 2
}
